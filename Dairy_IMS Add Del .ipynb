{
  "nbformat": 4,
  "nbformat_minor": 0,
  "metadata": {
    "colab": {
      "name": "Dairy IMS.ipynb",
      "provenance": [],
      "collapsed_sections": []
    },
    "kernelspec": {
      "name": "python3",
      "display_name": "Python 3"
    },
    "language_info": {
      "name": "python"
    }
  },
  "cells": [
    {
      "cell_type": "code",
      "metadata": {
        "id": "g1GA_iz5mb5I"
      },
      "source": [
        "import json\n",
        "\n",
        "fd = open(\"products.json\",'r')\n",
        "r = fd.read()\n",
        "fd.close()\n",
        "\n",
        "products = json.loads(r)"
      ],
      "execution_count": 13,
      "outputs": []
    },
    {
      "cell_type": "code",
      "metadata": {
        "id": "YeG0HEw5vRcy"
      },
      "source": [
        ""
      ],
      "execution_count": null,
      "outputs": []
    },
    {
      "cell_type": "code",
      "metadata": {
        "id": "z4flOwEBvRra"
      },
      "source": [
        ""
      ],
      "execution_count": null,
      "outputs": []
    },
    {
      "cell_type": "code",
      "metadata": {
        "id": "zk1Ukn4dvR8m"
      },
      "source": [
        ""
      ],
      "execution_count": null,
      "outputs": []
    },
    {
      "cell_type": "code",
      "metadata": {
        "id": "m0DHUq7Uqluk"
      },
      "source": [
        "##Updating the Inventory\n",
        "def add_products():\n",
        "  prod_id = str(input(\"Enter product id:\"))\n",
        "  qn = int(input(\"Enter quantity:\"))\n",
        "  if (prod_id in products.keys()):\n",
        "     print(\"Product exists\")\n",
        "     products[prod_id]['qn'] = products[prod_id]['qn'] + qn  \n",
        "\n",
        "  else:\n",
        "     name = str(input(\"Enter name:\"))\n",
        "     wt = int(input(\"Enter weight (Eg:1000):\"))\n",
        "     price = int(input(\"Enter price:\"))\n",
        "     bestbefore = int(input(\"Enter Expiry period (Eg:3 or 4):\"))\n",
        "\n",
        "     products[prod_id] = {'name':name, 'pr':price, 'wt':wt, 'bestbefore':bestbefore, 'qn': qn}\n",
        "\n",
        "  print(\"Products added Successfully!\")\n"
      ],
      "execution_count": 55,
      "outputs": []
    },
    {
      "cell_type": "code",
      "metadata": {
        "id": "5VlD_ip9ql_G"
      },
      "source": [
        ""
      ],
      "execution_count": null,
      "outputs": []
    },
    {
      "cell_type": "code",
      "metadata": {
        "id": "j55je4-Wmy-I"
      },
      "source": [
        "reply= str(input(\"Welcome to Dairy Inventory !\" +\"\\n\"+ \"Do you want to update the Products in your Inventory? yes or no :\"))\n",
        "if (reply=='yes'):\n",
        "   add_products()\n",
        "\n",
        "###Deleting the Products \n",
        "reply1= str(input(\"Do you want to delete any Products? yes or no:\"))\n",
        "if (reply1=='yes'):\n",
        "  del_id=str(input(print(\"Enter the Product id to be deleted completely\")))\n",
        "  del products[del_id]\n",
        "\n",
        "\n",
        "js = json.dumps(products)\n",
        "\n",
        "fd = open(\"products.json\",'w')\n",
        "fd.write(js)\n",
        "fd.close()  \n",
        "\n"
      ],
      "execution_count": null,
      "outputs": []
    },
    {
      "cell_type": "code",
      "metadata": {
        "id": "TbZakGG-mzIu"
      },
      "source": [
        "\n"
      ],
      "execution_count": 50,
      "outputs": []
    },
    {
      "cell_type": "code",
      "metadata": {
        "id": "0uh-VnQ6mzvd"
      },
      "source": [
        ""
      ],
      "execution_count": null,
      "outputs": []
    },
    {
      "cell_type": "code",
      "metadata": {
        "id": "62not4Lgmz28"
      },
      "source": [
        ""
      ],
      "execution_count": null,
      "outputs": []
    },
    {
      "cell_type": "code",
      "metadata": {
        "id": "_WK9Wf8Fmz-Y"
      },
      "source": [
        ""
      ],
      "execution_count": null,
      "outputs": []
    }
  ]
}