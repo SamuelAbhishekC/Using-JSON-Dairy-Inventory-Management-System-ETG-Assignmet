{
  "nbformat": 4,
  "nbformat_minor": 0,
  "metadata": {
    "colab": {
      "name": "Dairy IMS Purchase.ipynb",
      "provenance": [],
      "collapsed_sections": []
    },
    "kernelspec": {
      "name": "python3",
      "display_name": "Python 3"
    },
    "language_info": {
      "name": "python"
    }
  },
  "cells": [
    {
      "cell_type": "code",
      "metadata": {
        "id": "DaoTSQbMO-eC"
      },
      "source": [
        "import json\n",
        "\n",
        "fd = open(\"products.json\",'r')\n",
        "r = fd.read()\n",
        "fd.close()\n",
        "\n",
        "products = json.loads(r)\n",
        "\n",
        "\n",
        "\n"
      ],
      "execution_count": 33,
      "outputs": []
    },
    {
      "cell_type": "code",
      "metadata": {
        "colab": {
          "base_uri": "https://localhost:8080/"
        },
        "id": "KWtuTdGHUxz-",
        "outputId": "dc8e6f17-dadc-446e-bff1-5667ec91afb1"
      },
      "source": [
        "products      #In products some of them seem to repeted but the weight of the products wil be generated"
      ],
      "execution_count": 34,
      "outputs": [
        {
          "output_type": "execute_result",
          "data": {
            "text/plain": [
              "{'101': {'bestbefore': 3,\n",
              "  'name': 'Standard_Milk',\n",
              "  'pr': 20,\n",
              "  'qn': 10,\n",
              "  'wt': 500},\n",
              " '102': {'bestbefore': 3,\n",
              "  'name': 'Full_Cream_Milk',\n",
              "  'pr': 30,\n",
              "  'qn': 10,\n",
              "  'wt': 500},\n",
              " '103': {'bestbefore': 3,\n",
              "  'name': 'Standard_Milk',\n",
              "  'pr': 10,\n",
              "  'qn': 7,\n",
              "  'wt': 250},\n",
              " '104': {'bestbefore': 3,\n",
              "  'name': 'Full_Cream_Milk',\n",
              "  'pr': 18,\n",
              "  'qn': 10,\n",
              "  'wt': 250},\n",
              " '105': {'bestbefore': 5, 'name': 'Curd', 'pr': 20, 'qn': 10, 'wt': 500},\n",
              " '106': {'bestbefore': 3, 'name': 'Curd', 'pr': 18, 'qn': 10, 'wt': 250},\n",
              " '107': {'bestbefore': 10, 'name': 'Yogut', 'pr': 100, 'qn': 10, 'wt': 250},\n",
              " '108': {'bestbefore': 14,\n",
              "  'name': 'Doodh Peda',\n",
              "  'pr': 100,\n",
              "  'qn': 10,\n",
              "  'wt': 250},\n",
              " '109': {'bestbefore': 14,\n",
              "  'name': 'Doodh Peda',\n",
              "  'pr': 200,\n",
              "  'qn': 10,\n",
              "  'wt': 500},\n",
              " '110': {'bestbefore': 15,\n",
              "  'name': 'Kaju Burfi',\n",
              "  'pr': 150,\n",
              "  'qn': 10,\n",
              "  'wt': 250},\n",
              " '111': {'bestbefore': 15,\n",
              "  'name': 'Kaju Burfi',\n",
              "  'pr': 300,\n",
              "  'qn': 10,\n",
              "  'wt': 500},\n",
              " '112': {'bestbefore': 18,\n",
              "  'name': 'Salt Biscuit',\n",
              "  'pr': 70,\n",
              "  'qn': 10,\n",
              "  'wt': 100},\n",
              " '113': {'bestbefore': 18,\n",
              "  'name': 'Salt Biscuit',\n",
              "  'pr': 150,\n",
              "  'qn': 10,\n",
              "  'wt': 250},\n",
              " '114': {'bestbefore': 7,\n",
              "  'name': 'Mysore Pak',\n",
              "  'pr': 100,\n",
              "  'qn': 10,\n",
              "  'wt': 250},\n",
              " '115': {'bestbefore': 7,\n",
              "  'name': 'Mysore Pak',\n",
              "  'pr': 220,\n",
              "  'qn': 10,\n",
              "  'wt': 500},\n",
              " '116': {'bestbefore': 120, 'name': 'Ghee', 'pr': 150, 'qn': 10, 'wt': 250},\n",
              " '117': {'bestbefore': 120, 'name': 'Ghee', 'pr': 300, 'qn': 10, 'wt': 500},\n",
              " '118': {'bestbefore': 120, 'name': 'Ghee', 'pr': 600, 'qn': 10, 'wt': 1000},\n",
              " '119': {'bestbefore': 7,\n",
              "  'name': 'Regular Bread',\n",
              "  'pr': 35,\n",
              "  'qn': 10,\n",
              "  'wt': 200},\n",
              " '120': {'bestbefore': 7,\n",
              "  'name': 'Fruit Bread',\n",
              "  'pr': 50,\n",
              "  'qn': 10,\n",
              "  'wt': 200},\n",
              " '121': {'bestbefore': 7,\n",
              "  'name': 'Wheat Bread',\n",
              "  'pr': 45,\n",
              "  'qn': 10,\n",
              "  'wt': 200},\n",
              " '122': {'bestbefore': 3,\n",
              "  'name': 'Regular Lassi',\n",
              "  'pr': 20,\n",
              "  'qn': 10,\n",
              "  'wt': 100},\n",
              " '123': {'bestbefore': 3,\n",
              "  'name': 'Regular Lassi',\n",
              "  'pr': 28,\n",
              "  'qn': 10,\n",
              "  'wt': 150},\n",
              " '124': {'bestbefore': 3,\n",
              "  'name': 'Regular Lassi',\n",
              "  'pr': 40,\n",
              "  'qn': 10,\n",
              "  'wt': 200},\n",
              " '125': {'bestbefore': 3,\n",
              "  'name': 'Mango Lassi',\n",
              "  'pr': 20,\n",
              "  'qn': 10,\n",
              "  'wt': 100},\n",
              " '126': {'bestbefore': 3,\n",
              "  'name': 'Mango Lassi',\n",
              "  'pr': 28,\n",
              "  'qn': 10,\n",
              "  'wt': 150},\n",
              " '127': {'bestbefore': 3,\n",
              "  'name': 'Mango Lassi',\n",
              "  'pr': 40,\n",
              "  'qn': 10,\n",
              "  'wt': 200},\n",
              " '128': {'bestbefore': 3,\n",
              "  'name': 'Strawberry Lassi',\n",
              "  'pr': 20,\n",
              "  'qn': 10,\n",
              "  'wt': 100},\n",
              " '129': {'bestbefore': 3,\n",
              "  'name': 'Strawberry Lassi',\n",
              "  'pr': 28,\n",
              "  'qn': 10,\n",
              "  'wt': 150},\n",
              " '130': {'bestbefore': 3,\n",
              "  'name': 'Strawberry Lassi',\n",
              "  'pr': 40,\n",
              "  'qn': 10,\n",
              "  'wt': 200},\n",
              " '131': {'bestbefore': 20, 'name': 'Bun', 'pr': 50, 'qn': 10, 'wt': 200},\n",
              " '132': {'bestbefore': 120,\n",
              "  'name': 'Milk Powder',\n",
              "  'pr': 30,\n",
              "  'qn': 20,\n",
              "  'wt': 100}}"
            ]
          },
          "metadata": {},
          "execution_count": 34
        }
      ]
    },
    {
      "cell_type": "code",
      "metadata": {
        "id": "4VOKGClIUx-v"
      },
      "source": [
        ""
      ],
      "execution_count": null,
      "outputs": []
    },
    {
      "cell_type": "code",
      "metadata": {
        "colab": {
          "base_uri": "https://localhost:8080/",
          "height": 222
        },
        "id": "zBs7RxyEPgdD",
        "outputId": "ca6e3cca-86fe-44ee-baaf-aea00e98118b"
      },
      "source": [
        "\n",
        "\n",
        "\n",
        "\"\"\"# purchase\"\"\"\n",
        "\n",
        "import time\n",
        "\n",
        "ui_prod=str (input(\"Enter the Product_ID:\"))\n",
        "ui_quant=int (input(\"Enter the Quantity:\"))\n",
        "\n",
        "\n",
        "if (ui_prod in products.keys()):\n",
        "      print(\"Product_ID exists\")\n",
        "      print(\"***********Bill*************\")\n",
        "      print(\"Product:       \",products[ui_prod]['name'])\n",
        "      print(\"Price:         \",products[ui_prod]['pr'])\n",
        "      print(\"Weight (in g): \",products[ui_prod]['wt'])\n",
        "      print(\"Billing Amount:\",products[ui_prod]['pr'] * ui_quant)\n",
        "      t=time.ctime()\n",
        "      print(\"Time:\",t)\n",
        "\n",
        "      print(\"**Thank You have a nice day**\" )\n",
        "      products[ui_prod]['qn'] = products[ui_prod]['qn'] - ui_quant\n",
        "           \n",
        "else:\n",
        "     print(\"Product_ID doesnt exist;\")\n",
        "     print(\"Enter the correct product_ID.\")\n",
        "\n",
        "###Updating Inventroy after *purchase* \n",
        "\n",
        "\n",
        "\n",
        "js = json.dumps(products)\n",
        "fd = open(\"products.json\",'w')\n",
        "fd.write(js)\n",
        "fd.close()\n",
        "\n",
        "\n",
        "\"\"\"## sales\"\"\"\n",
        "sales = { 1:{\"prod_id\":101,\"name\":'Standard_Milk', \"pr\":20, \"billamt\":40 , \"qn\":2}\n",
        "    }\n",
        "\n",
        "sales[len(sales)+1] = {'prod_id':ui_prod,\"name\":products[ui_prod]['name'], \"pr\":products[ui_prod]['pr'], \"billamt\":products[ui_prod]['pr'] * ui_quant, \"time\":t}  \n",
        "\n",
        "\n",
        "sales =json.dumps(sales)\n",
        "\n",
        "fd = open(\"sales.json\",'w')\n",
        "fd.write(sales)\n",
        "fd.close()\n",
        "\n",
        "sales\n"
      ],
      "execution_count": 42,
      "outputs": [
        {
          "output_type": "stream",
          "name": "stdout",
          "text": [
            "Enter the Product_ID:103\n",
            "Enter the Quantity:04\n",
            "Product_ID exists\n",
            "***********Bill*************\n",
            "Product:        Standard_Milk\n",
            "Price:          10\n",
            "Weight (in g):  250\n",
            "Billing Amount: 40\n",
            "Time: Mon Sep  6 15:16:05 2021\n",
            "**Thank You have a nice day**\n"
          ]
        },
        {
          "output_type": "execute_result",
          "data": {
            "application/vnd.google.colaboratory.intrinsic+json": {
              "type": "string"
            },
            "text/plain": [
              "'{\"1\": {\"prod_id\": 101, \"name\": \"Standard_Milk\", \"pr\": 20, \"billamt\": 40, \"qn\": 2}, \"2\": {\"prod_id\": \"103\", \"name\": \"Standard_Milk\", \"pr\": 10, \"billamt\": 40, \"time\": \"Mon Sep  6 15:16:05 2021\"}}'"
            ]
          },
          "metadata": {},
          "execution_count": 42
        }
      ]
    },
    {
      "cell_type": "code",
      "metadata": {
        "id": "ziHFqgdroFRx"
      },
      "source": [
        ""
      ],
      "execution_count": null,
      "outputs": []
    },
    {
      "cell_type": "code",
      "metadata": {
        "id": "fhEA2UquPgrr"
      },
      "source": [
        ""
      ],
      "execution_count": null,
      "outputs": []
    },
    {
      "cell_type": "code",
      "metadata": {
        "id": "lVTLfpzwPgym"
      },
      "source": [
        ""
      ],
      "execution_count": null,
      "outputs": []
    },
    {
      "cell_type": "code",
      "metadata": {
        "id": "KuNPpbjCPg5I"
      },
      "source": [
        ""
      ],
      "execution_count": null,
      "outputs": []
    }
  ]
}